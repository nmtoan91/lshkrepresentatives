{
 "cells": [
  {
   "cell_type": "code",
   "execution_count": null,
   "metadata": {},
   "outputs": [],
   "source": [
    "#Install required packages\n",
    "!pip install lshkrepresentatives numpy scikit-learn pandas kmodes networkx termcolor"
   ]
  },
  {
   "cell_type": "code",
   "execution_count": 2,
   "metadata": {},
   "outputs": [],
   "source": [
    "#Import the package\n",
    "import numpy as np\n",
    "from LSHkRepresentatives.LSHkPrototypes import LSHkPrototypes"
   ]
  },
  {
   "cell_type": "code",
   "execution_count": 9,
   "metadata": {},
   "outputs": [
    {
     "data": {
      "text/plain": [
       "array([['red', '0', 'nan', '1', '1'],\n",
       "       ['green', '1', '1', '0', '0'],\n",
       "       ['blue', '0', '0', '3', '4'],\n",
       "       ['1', '5111', '1', '1.1', '1.2'],\n",
       "       ['2', '2', '2', '9.0', '8.9'],\n",
       "       ['2', '6513', 'rectangle', '4', '1.1'],\n",
       "       ['2', '3', '6565', '3.4', '3.1']], dtype='<U32')"
      ]
     },
     "execution_count": 9,
     "metadata": {},
     "output_type": "execute_result"
    }
   ],
   "source": [
    "#Init clustering algorithm instance and create sample dataset\n",
    "kprototypes = LSHkPrototypes(n_clusters=2,n_init=5) \n",
    "X = np.array([['red',0,np.nan,1,1],['green',1,1,0,0],['blue',0,0,3,4],[1,5111,1,1.1,1.2],[2,2,2,9.0,8.9],[2,6513,'rectangle',4,1.1],[2,3,6565,3.4,3.1]])\n",
    "X"
   ]
  },
  {
   "cell_type": "code",
   "execution_count": 11,
   "metadata": {},
   "outputs": [
    {
     "name": "stdout",
     "output_type": "stream",
     "text": [
      "SKIP LOADING distMatrix because IS_LOAD_AUTO=False or dbname=None; If you cluster a dataset multiple times, make sure to include the 'dbname' parameter during initialization to cache the distance matrix of the dataset. Calculating distance matrix can take a lot of time with high categirical values dataset.\n",
      "Generating disMatrix for DILCA\n",
      "Saving DILCA to: saved_dist_matrices/json/DILCA_None.json\n",
      "Generating LSH hash table:   hbits: 3(8)  k 1  d 5  n= 7\n",
      "LSH time: 0.024021300021559 Score:  22.400000000000002  Time: 0.0008705199928954243\n"
     ]
    },
    {
     "data": {
      "text/plain": [
       "array([1, 0, 1, 0, 0, 0, 0], dtype=uint16)"
      ]
     },
     "execution_count": 11,
     "metadata": {},
     "output_type": "execute_result"
    }
   ],
   "source": [
    "kprototypes.fit(X)"
   ]
  },
  {
   "cell_type": "code",
   "execution_count": 6,
   "metadata": {},
   "outputs": [
    {
     "name": "stdout",
     "output_type": "stream",
     "text": [
      "SKIP LOADING distMatrix because: False bd=None\n",
      "Generating disMatrix for DILCA\n",
      "Saving DILCA to: saved_dist_matrices/json/DILCA_None.json\n",
      "Generating LSH hash table:   hbits: 2(4)  k 1  d 3  n= 7\n",
      "LSH time: 0.008312699999805773 Score:  6.333333333333334  Time: 0.0003225799999199808\n"
     ]
    },
    {
     "data": {
      "text/plain": [
       "array([1, 1, 1, 1, 0, 0, 0], dtype=uint16)"
      ]
     },
     "execution_count": 6,
     "metadata": {},
     "output_type": "execute_result"
    }
   ],
   "source": [
    "#Run the clustering algorithm\n",
    "labels = kreps.fit(X)\n",
    "labels"
   ]
  },
  {
   "cell_type": "code",
   "execution_count": 7,
   "metadata": {},
   "outputs": [
    {
     "data": {
      "text/plain": [
       "1"
      ]
     },
     "execution_count": 7,
     "metadata": {},
     "output_type": "execute_result"
    }
   ],
   "source": [
    "#Predict the label for a random instance\n",
    "x = np.array([1,2,0])\n",
    "label = kreps.predict(x)\n",
    "label"
   ]
  },
  {
   "cell_type": "code",
   "execution_count": 9,
   "metadata": {},
   "outputs": [
    {
     "name": "stdout",
     "output_type": "stream",
     "text": [
      "Purity: 1.00 NMI: 1.00 ARI: 1.00 Sil:  0.59 Acc: 1.00 Recall: 1.00 Precision: 1.00\n"
     ]
    },
    {
     "data": {
      "text/plain": [
       "(1.0,\n",
       " 1.0,\n",
       " 1.0,\n",
       " 1.0,\n",
       " 1.0,\n",
       " 0.5873015873015872,\n",
       " 0.0003225799999199808,\n",
       " 0.008312699999805773,\n",
       " 1.0,\n",
       " 1.0,\n",
       " 1.0)"
      ]
     },
     "execution_count": 9,
     "metadata": {},
     "output_type": "execute_result"
    }
   ],
   "source": [
    "#User the built-in evaluation\n",
    "y = np.array([0,0,0,0,1,1,1]) # y is the ground labels\n",
    "kreps.CalcScore(y)"
   ]
  }
 ],
 "metadata": {
  "kernelspec": {
   "display_name": "Python 3",
   "language": "python",
   "name": "python3"
  },
  "language_info": {
   "codemirror_mode": {
    "name": "ipython",
    "version": 3
   },
   "file_extension": ".py",
   "mimetype": "text/x-python",
   "name": "python",
   "nbconvert_exporter": "python",
   "pygments_lexer": "ipython3",
   "version": "3.12.0"
  }
 },
 "nbformat": 4,
 "nbformat_minor": 2
}
