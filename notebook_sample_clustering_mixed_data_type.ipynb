{
 "cells": [
  {
   "cell_type": "code",
   "execution_count": 14,
   "metadata": {},
   "outputs": [
    {
     "name": "stdout",
     "output_type": "stream",
     "text": [
      "Requirement already satisfied: lshkrepresentatives in c:\\users\\nmtoa\\appdata\\local\\programs\\python\\python312\\lib\\site-packages (1.1.1)\n",
      "Requirement already satisfied: numpy in c:\\users\\nmtoa\\appdata\\local\\programs\\python\\python312\\lib\\site-packages (1.26.2)\n",
      "Requirement already satisfied: scikit-learn in c:\\users\\nmtoa\\appdata\\local\\programs\\python\\python312\\lib\\site-packages (1.3.2)\n",
      "Requirement already satisfied: pandas in c:\\users\\nmtoa\\appdata\\local\\programs\\python\\python312\\lib\\site-packages (2.1.3)\n",
      "Requirement already satisfied: networkx in c:\\users\\nmtoa\\appdata\\local\\programs\\python\\python312\\lib\\site-packages (3.2.1)\n",
      "Requirement already satisfied: termcolor in c:\\users\\nmtoa\\appdata\\local\\programs\\python\\python312\\lib\\site-packages (2.4.0)\n",
      "Requirement already satisfied: scipy>=1.5.0 in c:\\users\\nmtoa\\appdata\\local\\programs\\python\\python312\\lib\\site-packages (from scikit-learn) (1.11.4)\n",
      "Requirement already satisfied: joblib>=1.1.1 in c:\\users\\nmtoa\\appdata\\local\\programs\\python\\python312\\lib\\site-packages (from scikit-learn) (1.3.2)\n",
      "Requirement already satisfied: threadpoolctl>=2.0.0 in c:\\users\\nmtoa\\appdata\\local\\programs\\python\\python312\\lib\\site-packages (from scikit-learn) (3.2.0)\n",
      "Requirement already satisfied: python-dateutil>=2.8.2 in c:\\users\\nmtoa\\appdata\\local\\programs\\python\\python312\\lib\\site-packages (from pandas) (2.8.2)\n",
      "Requirement already satisfied: pytz>=2020.1 in c:\\users\\nmtoa\\appdata\\local\\programs\\python\\python312\\lib\\site-packages (from pandas) (2023.3.post1)\n",
      "Requirement already satisfied: tzdata>=2022.1 in c:\\users\\nmtoa\\appdata\\local\\programs\\python\\python312\\lib\\site-packages (from pandas) (2023.3)\n",
      "Requirement already satisfied: six>=1.5 in c:\\users\\nmtoa\\appdata\\local\\programs\\python\\python312\\lib\\site-packages (from python-dateutil>=2.8.2->pandas) (1.16.0)\n"
     ]
    }
   ],
   "source": [
    "#Install required packages\n",
    "!pip install lshkrepresentatives numpy scikit-learn pandas networkx termcolor"
   ]
  },
  {
   "cell_type": "code",
   "execution_count": 1,
   "metadata": {},
   "outputs": [],
   "source": [
    "#Import the package\n",
    "import numpy as np\n",
    "from LSHkRepresentatives.LSHkPrototypes import LSHkPrototypes"
   ]
  },
  {
   "cell_type": "code",
   "execution_count": 4,
   "metadata": {},
   "outputs": [
    {
     "data": {
      "text/plain": [
       "array([['red', '0', 'nan', '1', '1'],\n",
       "       ['green', '1', '1', '0', '0'],\n",
       "       ['blue', '0', '0', '3', '4'],\n",
       "       ['1', '5111', '1', '1.1', '1.2'],\n",
       "       ['2', '2', '2', '29.0', '38.9'],\n",
       "       ['2', '6513', 'rectangle', '40', '41.1'],\n",
       "       ['red', '0', 'nan', '30.4', '30.1']], dtype='<U32')"
      ]
     },
     "execution_count": 4,
     "metadata": {},
     "output_type": "execute_result"
    }
   ],
   "source": [
    "#Init clustering algorithm instance and create sample dataset\n",
    "kprototypes = LSHkPrototypes(n_clusters=2,n_init=5) \n",
    "X = np.array([['red',0,np.nan,1,1],\n",
    "              ['green',1,1,0,0],\n",
    "              ['blue',0,0,3,4],\n",
    "              [1,5111,1,1.1,1.2],\n",
    "              [2,2,2,29.0,38.9],\n",
    "              [2,6513,'rectangle',40,41.1],\n",
    "              ['red',0,np.nan,30.4,30.1]])\n",
    "X"
   ]
  },
  {
   "cell_type": "code",
   "execution_count": 15,
   "metadata": {},
   "outputs": [
    {
     "name": "stdout",
     "output_type": "stream",
     "text": [
      "SKIP LOADING distMatrix because IS_LOAD_AUTO=False or dbname=None; If you cluster a dataset multiple times, make sure to include the 'dbname' parameter during initialization to cache the distance matrix of the dataset. Calculating distance matrix can take a lot of time with high categirical values dataset.\n",
      "Generating disMatrix for DILCA\n",
      "Saving DILCA to: saved_dist_matrices/json/DILCA_None.json\n",
      "Generating LSH hash table:   hbits: 2(4)  k 1  d 3  n= 7\n",
      "LSH time: 0.0027534000109881163 Score:  39.32433015139188  Time: 0.0009500800049863755\n",
      "[1 1 1 1 0 0 0]\n",
      "[1 1 1 0]\n"
     ]
    }
   ],
   "source": [
    "#   Now we want to set the first three attributes are CATEGORICAL VALUES \n",
    "#   and the two last attributes are NUMERIC VALUES\n",
    "#   We need to define a attributes masks like this\n",
    "#   0 -> Categorical value  and 1 -> Numeric value\n",
    "\n",
    "#   If you want the numerical attributes are twice important as the \n",
    "#   categorical values so you need to set numerical_weight=2, categorical_weight=1\n",
    "\n",
    "attributeMasks = [0,0,0,1,1]\n",
    "a = kprototypes.fit(X,attributeMasks,numerical_weight=1, categorical_weight=1)\n",
    "print(a)\n",
    "test_predict = X[1:5]\n",
    "print(kprototypes.predict(test_predict))"
   ]
  }
 ],
 "metadata": {
  "kernelspec": {
   "display_name": "Python 3",
   "language": "python",
   "name": "python3"
  },
  "language_info": {
   "codemirror_mode": {
    "name": "ipython",
    "version": 3
   },
   "file_extension": ".py",
   "mimetype": "text/x-python",
   "name": "python",
   "nbconvert_exporter": "python",
   "pygments_lexer": "ipython3",
   "version": "3.12.0"
  }
 },
 "nbformat": 4,
 "nbformat_minor": 2
}
